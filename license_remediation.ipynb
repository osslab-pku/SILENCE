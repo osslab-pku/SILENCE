{
 "cells": [
  {
   "cell_type": "code",
   "execution_count": 3,
   "metadata": {},
   "outputs": [],
   "source": [
    "import logging\n",
    "import pandas as pd\n",
    "import multiprocessing as mp\n",
    "import time\n",
    "from remediator import get_remediation\n",
    "\n",
    "logging.basicConfig(level=logging.ERROR)"
   ]
  },
  {
   "cell_type": "code",
   "execution_count": 4,
   "metadata": {},
   "outputs": [],
   "source": [
    "incompats = pd.read_csv(\"res/license_incompatibilities.csv\")\n",
    "incompat_set = set(zip(incompats.package, incompats.version))\n",
    "mongo_uri = \"mongodb://localhost:27017/\"\n",
    "\n",
    "# for pkg, ver in sorted(incompat_set):\n",
    "#     print(pkg, ver)\n",
    "#     print(get_remediation(mongo_uri, pkg, ver)[\"changes\"])\n",
    "\n",
    "def worker(mongo_uri, pkg, ver):\n",
    "    try:\n",
    "        st=time.time()\n",
    "        res = get_remediation(mongo_uri, pkg, ver)\n",
    "        et=time.time()\n",
    "\n",
    "        res[\"run_time\"] = et - st\n",
    "        res[\"original_tree_size\"] = len(res[\"original_tree\"])\n",
    "        res[\"new_tree_size\"] = len(res[\"new_tree\"][0])\n",
    "\n",
    "        del res[\"original_tree\"]\n",
    "        return res\n",
    "    except Exception as ex:\n",
    "        return {\"package\": pkg, \"version\": ver, \"error\": str(ex)}\n",
    "\n",
    "params = [(mongo_uri, pkg, ver) for pkg, ver in incompat_set]\n",
    "with mp.Pool(mp.cpu_count() // 2) as pool:\n",
    "    result = pool.starmap(worker, params)\n",
    "result = pd.DataFrame(result).sort_values(by=[\"package\", \"version\"])\n",
    "result.to_csv(\"res/remediation.csv\", index=False)\n",
    "result.head()\n",
    "\n",
    "print(\"Total time: \", result.run_time.sum())\n",
    "print(\"Total packages: \", len(result))\n",
    "print(\"max run time: \", result.run_time.max())\n",
    "print(\"median run time: \", result.run_time.median())\n",
    "print(\"Average original tree size: \", result.original_tree_size.mean())\n",
    "print(\"Average new tree size: \", result.new_tree_size.mean())"
   ]
  }
 ],
 "metadata": {
  "kernelspec": {
   "display_name": "License",
   "language": "python",
   "name": "python3"
  },
  "language_info": {
   "codemirror_mode": {
    "name": "ipython",
    "version": 3
   },
   "file_extension": ".py",
   "mimetype": "text/x-python",
   "name": "python",
   "nbconvert_exporter": "python",
   "pygments_lexer": "ipython3",
   "version": "3.8.10"
  },
  "orig_nbformat": 4
 },
 "nbformat": 4,
 "nbformat_minor": 2
}
